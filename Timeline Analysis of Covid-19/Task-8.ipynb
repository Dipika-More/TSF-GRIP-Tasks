{
 "cells": [
  {
   "cell_type": "markdown",
   "metadata": {},
   "source": [
    "# <u><center><font color=red>GRIP - The Sparks Foundation</font></center></u>"
   ]
  },
  {
   "attachments": {
    "sparks.png": {
     "image/png": "[encoded data removed]"
    }
   },
   "cell_type": "markdown",
   "metadata": {},
   "source": [
    "![sparks.png](attachment:sparks.png)"
   ]
  },
  {
   "cell_type": "markdown",
   "metadata": {},
   "source": [
    "## <u><center>Data Science and Business Analytics</center></u>"
   ]
  },
  {
   "cell_type": "markdown",
   "metadata": {},
   "source": [
    "### <center>Author : Dipika D. More</center>\n",
    " <br>"
   ]
  },
  {
   "cell_type": "markdown",
   "metadata": {},
   "source": [
    "# <center>Task: Timeline Analysis : Covid-19</center> \n"
   ]
  },
  {
   "cell_type": "markdown",
   "metadata": {},
   "source": [
    "### Objective: \n",
    "\n",
    "● Create a storyboard showing spread of Covid-19 cases in your country or any\n",
    "region (Asia, Europe, BRICS etc) using Tableau, Power BI or SAP\n",
    "\n",
    "● Dataset : https://bit.ly/30d2gdi"
   ]
  },
  {
   "cell_type": "code",
   "execution_count": null,
   "metadata": {
    "extensions": {
     "jupyter_dashboards": {
      "version": 1,
      "views": {
       "grid_default": {},
       "report_default": {
        "col": 0,
        "height": 2,
        "hidden": false,
        "row": 2,
        "width": 12
       }
      }
     }
    }
   },
   "outputs": [],
   "source": [
    "import pandas as pd\n",
    "import numpy as np\n",
    "import matplotlib.pyplot as plt\n",
    "from IPython.display import Markdown, display\n",
    "from datetime import datetime as d\n",
    "from ipywidgets import interact,interactive,fixed,interact_manual\n",
    "import ipywidgets as widgets\n",
    "import chart_studio.plotly as py\n",
    "import plotly.graph_objs as go\n",
    "from plotly.offline import iplot, init_notebook_mode\n",
    "import cufflinks\n",
    "from plotly.subplots import make_subplots\n",
    "import dateutil\n",
    "import plotly.express as px\n",
    "import plotly.io as pio\n",
    "import datetime\n",
    "from statistics import mean \n",
    "import datetime as dt\n",
    "import requests\n",
    "from itertools import chain\n",
    "import plotly.graph_objects as go\n",
    "from plotly.subplots import make_subplots\n",
    "import folium\n",
    "from folium import plugins\n",
    "import os\n",
    "import sys\n",
    "from scipy.optimize import curve_fit\n",
    "from sklearn.metrics import mean_squared_log_error\n",
    "from sklearn.metrics import r2_score\n",
    "cufflinks.go_offline(connected=True)\n",
    "init_notebook_mode(connected=True)\n",
    "%matplotlib inline"
   ]
  },
  {
   "cell_type": "markdown",
   "metadata": {},
   "source": [
    "## Covid-19 Spread Worldwide "
   ]
  },
  {
   "cell_type": "code",
   "execution_count": null,
   "metadata": {
    "extensions": {
     "jupyter_dashboards": {
      "version": 1,
      "views": {
       "grid_default": {},
       "report_default": {
        "hidden": true
       }
      }
     }
    }
   },
   "outputs": [],
   "source": [
    "full = pd.read_csv(\"full_data (4).csv\")\n",
    "full = full[full['new_cases'].notna()]\n",
    "full_ = full.groupby(\"date\" ,as_index=False)[['new_cases','new_deaths']].sum()\n",
    "full_[\"Date\"] = pd.to_datetime(full_['date'])\n",
    "full_['Week_Number'] = full_['Date'].dt.week\n",
    "full__ = full_.groupby(\"Week_Number\" ,as_index=False)[['new_cases','new_deaths']].mean()"
   ]
  },
  {
   "cell_type": "code",
   "execution_count": null,
   "metadata": {
    "extensions": {
     "jupyter_dashboards": {
      "version": 1,
      "views": {
       "grid_default": {},
       "report_default": {
        "col": 0,
        "height": 3,
        "hidden": false,
        "row": 6,
        "width": 4
       }
      }
     }
    }
   },
   "outputs": [],
   "source": [
    "fig = px.bar(full_,x='date', y='new_cases', orientation='v',title = \"COVID19-  daily new cases\",\n",
    "             labels=dict(x=\"Date\", y=\"Count\"))\n",
    "fig.show()\n"
   ]
  },
  {
   "cell_type": "code",
   "execution_count": null,
   "metadata": {
    "extensions": {
     "jupyter_dashboards": {
      "version": 1,
      "views": {
       "grid_default": {},
       "report_default": {
        "col": 5,
        "height": 3,
        "hidden": false,
        "row": 6,
        "width": 5
       }
      }
     }
    }
   },
   "outputs": [],
   "source": [
    "fig = px.line(x=full__[\"Week_Number\"], y=full__[\"new_cases\"], title = \"7-day average of daily new cases\",\n",
    "             labels=dict(x=\"Week\", y=\"Count\"))\n",
    "fig.show()"
   ]
  },
  {
   "cell_type": "code",
   "execution_count": null,
   "metadata": {
    "extensions": {
     "jupyter_dashboards": {
      "version": 1,
      "views": {
       "grid_default": {},
       "report_default": {
        "col": 0,
        "height": 2,
        "hidden": false,
        "row": 9,
        "width": 12
       }
      }
     }
    }
   },
   "outputs": [],
   "source": [
    "df = pd.read_csv(\"covid_19_data.csv\")\n",
    "df.rename(columns={'ObservationDate':'Date','Province/State':'Province_State',\n",
    "                   'Country/Region':'Country_Region','Confirmed':'ConfirmedCases',\n",
    "                   'Deaths':'Fatalities'},inplace=True)\n",
    "df.loc[df['Country_Region']=='Mainland China','Country_Region']='China'\n",
    "\n",
    "df_world = df.copy()\n",
    "df_world = df_world.groupby('Date',as_index=False)['ConfirmedCases','Fatalities','Recovered'].sum()"
   ]
  },
  {
   "cell_type": "code",
   "execution_count": null,
   "metadata": {
    "extensions": {
     "jupyter_dashboards": {
      "version": 1,
      "views": {
       "grid_default": {},
       "report_default": {
        "col": 0,
        "height": 2,
        "hidden": false,
        "row": 11,
        "width": 12
       }
      }
     }
    }
   },
   "outputs": [],
   "source": [
    "l = [df_world.columns.to_list()[1] , df_world.columns.to_list()[2] ,df_world.columns.to_list()[3]]\n",
    "fig = go.Figure()\n",
    "\n",
    "for column in l:\n",
    "    fig.add_trace(\n",
    "        go.Scatter(\n",
    "            x = df_world['Date'],\n",
    "            y = df_world[column],\n",
    "            name = column\n",
    "        )\n",
    "    )\n",
    "fig.update_layout(\n",
    "    updatemenus=[go.layout.Updatemenu(\n",
    "        active=0,\n",
    "        buttons=list(\n",
    "            [dict(label = 'All',\n",
    "                  method = 'update',\n",
    "                  args = [{'visible': [True, True,True]},\n",
    "                          {'title': 'All',\n",
    "                           'showlegend':True}]),\n",
    "             dict(label = 'ConfirmedCases',\n",
    "                  method = 'update',\n",
    "                  args = [{'visible': [True, False,False]}, \n",
    "                          {'title': 'ConfirmedCases',\n",
    "                           'showlegend':True}]),\n",
    "             dict(label = 'Fatalities',\n",
    "                  method = 'update',\n",
    "                  args = [{'visible': [False,True,False]},\n",
    "                          {'title': 'Fatalities',\n",
    "                           'showlegend':True}]),\n",
    "              dict(label = 'Recovered',\n",
    "                  method = 'update',\n",
    "                  args = [{'visible': [False,False,True]},\n",
    "                          {'title': 'Recovered',\n",
    "                           'showlegend':True}]),\n",
    "            ])\n",
    "        )\n",
    "    ])\n",
    "\n",
    "fig.show()"
   ]
  },
  {
   "cell_type": "code",
   "execution_count": null,
   "metadata": {
    "extensions": {
     "jupyter_dashboards": {
      "version": 1,
      "views": {
       "grid_default": {},
       "report_default": {
        "col": 0,
        "height": 2,
        "hidden": false,
        "row": 13,
        "width": 12
       }
      }
     }
    }
   },
   "outputs": [],
   "source": [
    "#Get the top 5 countries\n",
    "last_date = df.Date.max()\n",
    "df_countries = df[df['Date']==last_date]\n",
    "df_countries = df_countries.groupby('Country_Region', as_index=False)['ConfirmedCases','Fatalities','Recovered'].sum()\n",
    "df_countries = df_countries.sort_values(by = 'ConfirmedCases',ascending =False)\n",
    "df_trend = df.groupby(['Date','Country_Region'], as_index=False)['ConfirmedCases','Fatalities','Recovered'].sum()\n",
    "top5 = df_trend.loc[df_trend['Country_Region'].isin(['US', 'Brazil', 'India', 'Russia', 'Colombia'])]\n",
    "figa = px.line(top5, x='Date', y='ConfirmedCases', color='Country_Region', title='COVID19- Top 5 worst affected countries')\n",
    "figa.show()"
   ]
  },
  {
   "cell_type": "code",
   "execution_count": null,
   "metadata": {
    "extensions": {
     "jupyter_dashboards": {
      "version": 1,
      "views": {
       "grid_default": {},
       "report_default": {
        "col": 0,
        "height": 2,
        "hidden": false,
        "row": 15,
        "width": 12
       }
      }
     }
    }
   },
   "outputs": [],
   "source": [
    "df_countries_fatal = df_countries.sort_values(by = 'Fatalities',ascending =False)\n",
    "top5_f = df_trend.loc[df_trend['Country_Region'].isin(['US', 'Brazil', 'India', 'Mexico', 'UK'])]\n",
    "figb = px.line(top5_f, x='Date', y='Fatalities', color='Country_Region', title='COVID19- Top 5 countries with highest no. of deaths')\n",
    "figb.show()"
   ]
  },
  {
   "cell_type": "markdown",
   "metadata": {
    "extensions": {
     "jupyter_dashboards": {
      "version": 1,
      "views": {
       "grid_default": {},
       "report_default": {
        "col": 0,
        "height": 2,
        "hidden": false,
        "row": 17,
        "width": 12
       }
      }
     }
    }
   },
   "source": [
    "## Spread of Covid-19 in India \n"
   ]
  },
  {
   "cell_type": "code",
   "execution_count": null,
   "metadata": {
    "extensions": {
     "jupyter_dashboards": {
      "version": 1,
      "views": {
       "grid_default": {},
       "report_default": {
        "col": 0,
        "height": 2,
        "hidden": false,
        "row": 19,
        "width": 12
       }
      }
     }
    }
   },
   "outputs": [],
   "source": [
    "d1 = pd.read_csv('state_wise.csv')\n",
    "\n",
    "d1['COVID_SPREAD'] = 'Recovered: ' + d1['Recovered'].astype(str) +'  Deceased: ' + d1['Deaths'].astype(str) \n",
    "d11 = d1.drop(0,)\n",
    "\n",
    "\n",
    "cord = pd.read_csv(\"Indian Coordinates.csv\")\n",
    "cord.rename(columns={\"Name of State / UT\" :\"State\"},inplace = True)\n",
    "cord = cord.drop(7).reset_index()\n",
    "cord[\"State\"]= cord[\"State\"].replace({\"Delhi\": \"NCT of Delhi\", \"Andaman and Nicobar\" : \"Andaman and Nicobar Island\" , \"Pondicherry\" : \"Puducherry\", \"Arunachal Pradesh\":\"Arunanchal Pradesh\"  })  \n",
    "final = pd.merge(d11,cord,on = \"State\")\n",
    "final[\"Confirmed\"] = final[\"Confirmed\"].astype(float)\n",
    "\n"
   ]
  },
  {
   "cell_type": "code",
   "execution_count": null,
   "metadata": {
    "extensions": {
     "jupyter_dashboards": {
      "version": 1,
      "views": {
       "grid_default": {},
       "report_default": {
        "hidden": true
       }
      }
     }
    }
   },
   "outputs": [],
   "source": [
    "m = folium.Map(location=[20,80], tiles=\"Stamen Terrain\", zoom_start=4)\n",
    "\n",
    "for Latitude, Longitude, State, Confirmed in zip(final.Latitude, final.Longitude ,final.State,final.Confirmed):\n",
    "        folium.features.CircleMarker(\n",
    "            [Latitude,Longitude],\n",
    "            radius=Confirmed/20000,\n",
    "            popup = ('<strong>State</strong>: ' + str(State).capitalize() + '<br>'\n",
    "                                '<strong>Confirmed Cases</strong>: ' + str(Confirmed) + '<br>'),\n",
    "            color='yellow',\n",
    "            fill=True,\n",
    "            fill_color='red',\n",
    "            fill_opacity=0.6\n",
    "        ).add_to(m)\n",
    "m"
   ]
  },
  {
   "cell_type": "code",
   "execution_count": null,
   "metadata": {},
   "outputs": [],
   "source": [
    "tri = pd.read_csv(\"case_time_series.csv\")\n",
    "t = tri.tail(1)\n",
    "t['country'] = \"India\"\n",
    "t['Total Confirmed'][282]\n",
    "fig = go.Figure()\n",
    "fig.add_trace(go.Bar(\n",
    "    y=t[\"country\"],\n",
    "    x=t[\"Total Confirmed\"],\n",
    "    name = \"Confirmed\",\n",
    "    orientation='h',\n",
    "    marker=dict(\n",
    "        color='rgba(2, 199, 99, 0.6)',\n",
    "        line=dict(color='rgba(2, 199, 99,0.6)', width=0.5)\n",
    "    )\n",
    "    \n",
    "))\n",
    "fig.add_trace(go.Bar(\n",
    "    y=t[\"country\"],\n",
    "    x=t[\"Total Recovered\"],\n",
    "    name = \"Recovered\",\n",
    "    orientation='h',\n",
    "    marker=dict(\n",
    "        color='rgba(246, 78, 139, 0.6)',\n",
    "        line=dict(color='rgba(246, 78, 139, 1.0)', width=0.5)\n",
    "    )\n",
    "))\n",
    "fig.add_trace(go.Bar(\n",
    "    y=t[\"country\"],\n",
    "    x=t[\"Total Deceased\"],\n",
    "    name = \"Deceased\",\n",
    "    orientation='h',\n",
    "    marker=dict(\n",
    "        color='rgba(58, 71, 80, 0.6)',\n",
    "        line=dict(color='rgba(58, 71, 80, 1.0)', width=0.5)\n",
    "    )\n",
    "    \n",
    "))\n",
    "\n",
    "\n",
    "fig.update_layout(barmode='stack')\n",
    "fig.show()"
   ]
  },
  {
   "cell_type": "code",
   "execution_count": null,
   "metadata": {
    "extensions": {
     "jupyter_dashboards": {
      "version": 1,
      "views": {
       "grid_default": {},
       "report_default": {
        "hidden": true
       }
      }
     }
    }
   },
   "outputs": [],
   "source": [
    "fig = px.bar(tri,x='Date_YMD', y='Daily Confirmed', orientation='v',title = \"Daily new COVID19 cases in India\" )\n",
    "fig.update_layout(bargap = 0)\n",
    "fig.show()"
   ]
  },
  {
   "cell_type": "markdown",
   "metadata": {},
   "source": [
    "## Spread in India overtime"
   ]
  },
  {
   "cell_type": "code",
   "execution_count": null,
   "metadata": {},
   "outputs": [],
   "source": [
    "l = [tri.columns.to_list()[4] , tri.columns.to_list()[6] ,tri.columns.to_list()[8]]\n",
    "fig = go.Figure()\n",
    "\n",
    "for column in l:\n",
    "    fig.add_trace(\n",
    "        go.Scatter(\n",
    "            x = tri['Date'],\n",
    "            y = tri[column],\n",
    "            name = column,\n",
    "        )\n",
    "    )\n",
    "fig.update_layout(\n",
    "    updatemenus=[go.layout.Updatemenu(\n",
    "        active=0,\n",
    "        buttons=list(\n",
    "            [dict(label = 'All',\n",
    "                  method = 'update',\n",
    "                  args = [{'visible': [True, True,True]},\n",
    "                          {'title': 'All',\n",
    "                           'showlegend':True}]),\n",
    "             dict(label = 'ConfirmedCases',\n",
    "                  method = 'update',\n",
    "                  args = [{'visible': [True, False,False]}, \n",
    "                          {'title': 'ConfirmedCases',\n",
    "                           'showlegend':True}]),\n",
    "             dict(label = 'Recovered',\n",
    "                  method = 'update',\n",
    "                  args = [{'visible': [False,True,False]},\n",
    "                          {'title': 'Recovered',\n",
    "                           'showlegend':True}]),\n",
    "              dict(label = 'Fatalities',\n",
    "                  method = 'update',\n",
    "                  args = [{'visible': [False,False,True]},\n",
    "                          {'title': 'Fatalities',\n",
    "                           'showlegend':True}]),\n",
    "            ])\n",
    "        )\n",
    "    ])\n",
    "\n",
    "fig.show()"
   ]
  },
  {
   "cell_type": "markdown",
   "metadata": {},
   "source": [
    "## Predict no. of confirmed cases in India for first week of November"
   ]
  },
  {
   "cell_type": "markdown",
   "metadata": {},
   "source": [
    "Fit a logistic curve for total(cumulative) confirmed cases in India. Then predict from 1/11/20 to 7/11/20"
   ]
  },
  {
   "cell_type": "code",
   "execution_count": null,
   "metadata": {},
   "outputs": [],
   "source": [
    "##fit a logistic curve for total confirmed cases in India. Then predict from 1/11/20 to 7/11/20\n",
    "test = tri.tail(7)\n",
    "tr = tri[0:276]"
   ]
  },
  {
   "cell_type": "code",
   "execution_count": null,
   "metadata": {},
   "outputs": [],
   "source": [
    "##no. of days from first case\n",
    "x_data = range(len(tr.index))\n",
    "x = [number for number in x_data]\n",
    "y_data = tr['Total Confirmed']"
   ]
  },
  {
   "cell_type": "code",
   "execution_count": null,
   "metadata": {},
   "outputs": [],
   "source": [
    "def log_curve(x, k, x_0, ymax):\n",
    "    return ymax / (1 + np.exp(-k*(x-x_0)))\n"
   ]
  },
  {
   "cell_type": "code",
   "execution_count": null,
   "metadata": {},
   "outputs": [],
   "source": [
    "# Fit the curve\n",
    "parameters, v_cov = curve_fit(log_curve, x, y_data)\n",
    "print(\" \", parameters,\"\\n\", v_cov)"
   ]
  },
  {
   "cell_type": "code",
   "execution_count": null,
   "metadata": {},
   "outputs": [],
   "source": [
    "k = parameters[0]\n",
    "x_0 = parameters[1]\n",
    "ymax = parameters[2]"
   ]
  },
  {
   "cell_type": "code",
   "execution_count": null,
   "metadata": {},
   "outputs": [],
   "source": [
    "y_fitted = log_curve(x_data, k, x_0, ymax)"
   ]
  },
  {
   "cell_type": "code",
   "execution_count": null,
   "metadata": {},
   "outputs": [],
   "source": [
    "fig=go.Figure()\n",
    "fig.add_trace(go.Scatter(x=x,\n",
    "                         y=y_data,\n",
    "                         mode='markers',\n",
    "                         name = 'no. of  cases')\n",
    "             )\n",
    "\n",
    "\n",
    "fig.add_trace(go.Scatter(x=x,\n",
    "                         y=y_fitted,\n",
    "                         mode='lines',\n",
    "                         name='fitted',\n",
    "                        ))\n",
    "\n",
    "fig.show()"
   ]
  },
  {
   "cell_type": "code",
   "execution_count": null,
   "metadata": {},
   "outputs": [],
   "source": [
    "xtest = np.arange(276,283,1)\n",
    "ytest = test[\"Total Confirmed\"]\n",
    "y_fit = log_curve(xtest, k, x_0, ymax)\n",
    "fig=go.Figure()\n",
    "fig.add_trace(go.Scatter(x=xtest,\n",
    "                         y=ytest,\n",
    "                         mode='lines',\n",
    "                         name = 'No. of cases')\n",
    "             )\n",
    "\n",
    "# regression data\n",
    "fig.add_trace(go.Scatter(x=xtest,\n",
    "                         y=y_fit,\n",
    "                         mode='lines',\n",
    "                         name='Predicted',\n",
    "                         line=dict(color='firebrick', width=2)\n",
    "                        ))\n",
    "\n",
    "fig.show()\n"
   ]
  },
  {
   "cell_type": "code",
   "execution_count": null,
   "metadata": {},
   "outputs": [],
   "source": [
    "##fitting metrics\n",
    "MSLE = mean_squared_log_error(ytest,y_fit)\n",
    "print(\"Mean squared log error (MSLE): \", '{:.6f}'.format(MSLE))\n",
    "print(\"R2 score: \", '{:.3f}'.format(r2_score(ytest,y_fit)))"
   ]
  },
  {
   "cell_type": "markdown",
   "metadata": {},
   "source": [
    "## Covid-19 Spread in India : State-Wise"
   ]
  },
  {
   "cell_type": "code",
   "execution_count": null,
   "metadata": {
    "extensions": {
     "jupyter_dashboards": {
      "version": 1,
      "views": {
       "grid_default": {},
       "report_default": {
        "hidden": true
       }
      }
     }
    }
   },
   "outputs": [],
   "source": [
    "d1 = pd.read_csv('state_wise.csv')\n",
    "import os\n",
    "d1['COVID_SPREAD'] = 'Recovered: ' + d1['Recovered'].astype(str) +'  Deceased: ' + d1['Deaths'].astype(str) \n",
    "d11 = d1.drop(0,)\n",
    "d11[\"State\"]= d11[\"State\"].replace({\"Delhi\": \"NCT of Delhi\", \"Jammu and Kashmir\" : \"Jammu & Kashmir\" , \"Arunachal Pradesh\" : \"Arunanchal Pradesh\", \"Andaman and Nicobar Islands\" : \"Andaman & Nicobar Island\"})\n",
    "import json\n",
    "states = json.load(open(\"states_india.geojson\", 'r'))\n",
    "state_id_map = {}\n",
    "for feature in states['features']:\n",
    "    feature['id'] = feature['properties']['state_code']\n",
    "    state_id_map[feature['properties']['st_nm']] = feature['id']\n",
    "\n",
    "del state_id_map['Dadara & Nagar Havelli']\n",
    "del state_id_map['Daman & Diu']\n",
    "d11['id']  = d11['State'].apply(lambda x : state_id_map[x])\n",
    "d11['Mortality Rate%'] = round((d11.Deaths/d11.Confirmed)*100,2)"
   ]
  },
  {
   "cell_type": "code",
   "execution_count": null,
   "metadata": {
    "extensions": {
     "jupyter_dashboards": {
      "version": 1,
      "views": {
       "grid_default": {},
       "report_default": {
        "hidden": true
       }
      }
     }
    }
   },
   "outputs": [],
   "source": [
    "figg = px.choropleth(d11, geojson=states, color=\"Confirmed\",\n",
    "                    locations='id', \n",
    "                    hover_name='State',\n",
    "                    hover_data=[\"Mortality Rate%\",'Confirmed','Recovered','Deaths','Active'],\n",
    "                    title='COVID19 SPREAD IN INDIA'\n",
    "                   )\n",
    "figg.update_geos(fitbounds=\"locations\", visible=True)\n",
    "figg.update_geos(projection_type=\"orthographic\")\n",
    "figg.update_layout(height=600,margin={\"r\":0,\"t\":30,\"l\":0,\"b\":30})\n",
    "figg.show()"
   ]
  },
  {
   "cell_type": "markdown",
   "metadata": {
    "extensions": {
     "jupyter_dashboards": {
      "version": 1,
      "views": {
       "grid_default": {},
       "report_default": {
        "col": 0,
        "height": 2,
        "hidden": false,
        "row": 21,
        "width": 12
       }
      }
     }
    }
   },
   "source": [
    "## States/UTs with highest mortality rate"
   ]
  },
  {
   "cell_type": "code",
   "execution_count": null,
   "metadata": {
    "extensions": {
     "jupyter_dashboards": {
      "version": 1,
      "views": {
       "grid_default": {},
       "report_default": {
        "hidden": true
       }
      }
     }
    },
    "scrolled": true
   },
   "outputs": [],
   "source": [
    "d111 = d11.sort_values(by = \"Mortality Rate%\",ascending = False).head(10)\n",
    "f= px.bar(d111, x=\"State\", y=\"Mortality Rate%\")\n",
    "f.show()"
   ]
  },
  {
   "cell_type": "code",
   "execution_count": null,
   "metadata": {
    "extensions": {
     "jupyter_dashboards": {
      "version": 1,
      "views": {
       "grid_default": {},
       "report_default": {
        "hidden": true
       }
      }
     }
    }
   },
   "outputs": [],
   "source": [
    "import plotly.graph_objects as go\n",
    "ds = d1.drop(0,)\n",
    "ds = ds.sort_values(by = 'Confirmed')\n",
    "dss = ds.tail(10)\n",
    "\n",
    "fig = go.Figure()\n",
    "fig.add_trace(go.Bar(\n",
    "    y=dss[\"State\"],\n",
    "    x=dss[\"Deaths\"],\n",
    "    name = \"Deceased\",\n",
    "    orientation='h',\n",
    "    marker=dict(\n",
    "        color='rgba(2, 199, 99, 0.6)',\n",
    "        line=dict(color='rgba(2, 199, 99,0.6)', width=3)\n",
    "    )\n",
    "    \n",
    "))\n",
    "fig.add_trace(go.Bar(\n",
    "    y=dss[\"State\"],\n",
    "    x=dss[\"Recovered\"],\n",
    "    name = \"Recovered\",\n",
    "    orientation='h',\n",
    "    marker=dict(\n",
    "        color='rgba(246, 78, 139, 0.6)',\n",
    "        line=dict(color='rgba(246, 78, 139, 1.0)', width=3)\n",
    "    )\n",
    "))\n",
    "fig.add_trace(go.Bar(\n",
    "    y=dss[\"State\"],\n",
    "    x=dss[\"Confirmed\"],\n",
    "    name = \"Confirmed\",\n",
    "    orientation='h',\n",
    "    marker=dict(\n",
    "        color='rgba(58, 71, 80, 0.6)',\n",
    "        line=dict(color='rgba(58, 71, 80, 1.0)', width=3)\n",
    "    )\n",
    "    \n",
    "))\n",
    "\n",
    "\n",
    "fig.update_layout(barmode='stack')\n",
    "fig.show()"
   ]
  },
  {
   "cell_type": "code",
   "execution_count": null,
   "metadata": {
    "extensions": {
     "jupyter_dashboards": {
      "version": 1,
      "views": {
       "grid_default": {},
       "report_default": {
        "hidden": true
       }
      }
     }
    }
   },
   "outputs": [],
   "source": [
    "##top5 states where testing is maximum\n",
    "tes = pd.read_csv(\"StatewiseTestingDetails (1).csv\")\n",
    "tes1 = tes[tes['TotalSamples' ].notnull()]\n",
    "tes2 = tes1[tes1['Positive'].notnull()]\n",
    "tess = tes.groupby('State' ,as_index=False)[['TotalSamples','Positive']].max()\n",
    "tess = tess.sort_values(by = 'TotalSamples').tail(10)\n",
    "import plotly.graph_objects as go\n",
    "\n",
    "fig = go.Figure()\n",
    "fig.add_trace(go.Bar(\n",
    "    y=tess[\"State\"],\n",
    "    x=tess[\"TotalSamples\"],\n",
    "    name = \"Total tested\",\n",
    "    orientation='h',\n",
    "    marker=dict(\n",
    "        color='rgba(1130, 199, 99, 0.6)',\n",
    "        line=dict(color='rgba(1130, 199, 99, 0.6)', width=3)\n",
    "    )\n",
    "))\n",
    "fig.add_trace(go.Bar(\n",
    "    y=tess[\"State\"],\n",
    "    x=tess[\"Positive\"],\n",
    "    name = \"Positive\",\n",
    "    orientation='h',\n",
    "    marker=dict(\n",
    "        color='rgba(900, 71, 80, 0.6)',\n",
    "        line=dict(color='rgba(900, 71, 80, 1.0)', width=3)\n",
    "    )\n",
    "))\n",
    "\n",
    "fig.update_layout(barmode='stack')\n",
    "fig.show()"
   ]
  },
  {
   "cell_type": "code",
   "execution_count": null,
   "metadata": {
    "extensions": {
     "jupyter_dashboards": {
      "version": 1,
      "views": {
       "grid_default": {},
       "report_default": {
        "hidden": true
       }
      }
     }
    }
   },
   "outputs": [],
   "source": [
    "pos = pd.read_csv(\"ICMR_Testing_Data.csv\")\n",
    "fig = px.line(pos, x=\"day\", y=\"positive_ratio\", title='Test Positivity ratio for Mar-May')\n",
    "fig.show()"
   ]
  }
 ],
 "metadata": {
  "extensions": {
   "jupyter_dashboards": {
    "activeView": "report_default",
    "version": 1,
    "views": {
     "grid_default": {
      "name": "grid",
      "type": "grid"
     },
     "report_default": {
      "name": "report",
      "type": "report"
     }
    }
   }
  },
  "kernelspec": {
   "display_name": "Python 3 (ipykernel)",
   "language": "python",
   "name": "python3"
  },
  "language_info": {
   "codemirror_mode": {
    "name": "ipython",
    "version": 3
   },
   "file_extension": ".py",
   "mimetype": "text/x-python",
   "name": "python",
   "nbconvert_exporter": "python",
   "pygments_lexer": "ipython3",
   "version": "3.9.7"
  }
 },
 "nbformat": 4,
 "nbformat_minor": 4
}
